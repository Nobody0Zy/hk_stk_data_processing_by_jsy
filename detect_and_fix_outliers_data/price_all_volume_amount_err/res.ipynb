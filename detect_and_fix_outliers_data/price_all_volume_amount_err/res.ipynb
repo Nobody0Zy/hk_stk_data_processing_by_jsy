{
 "cells": [
  {
   "cell_type": "code",
   "execution_count": 1,
   "metadata": {},
   "outputs": [],
   "source": [
    "import pickle\n",
    "import os\n",
    "import pandas as pd\n",
    "import numpy as np\n",
    "import config"
   ]
  },
  {
   "cell_type": "code",
   "execution_count": 4,
   "metadata": {},
   "outputs": [],
   "source": [
    "min_bar_folder_path = \"F:\\\\local_tmp_data\\\\stock\\\\HK\\\\v11\"\n",
    "# min_bar_folder_path = \"D:\\\\Quant_Game\\\\tmp_data\\\\v11_fix_v10_not_in_trade_time_data\"\n",
    "volume_100_df_idx_list = pd.read_pickle('volume100_df_idx_list.pkl')"
   ]
  },
  {
   "cell_type": "code",
   "execution_count": 5,
   "metadata": {},
   "outputs": [],
   "source": [
    "check_file_path = os.path.join(min_bar_folder_path,volume_100_df_idx_list[1])\n",
    "check_min_bar_df = pd.read_pickle(check_file_path)\n",
    "df = check_min_bar_df.copy()\n",
    "df['amount/volume'] = df['amount']/df['volume']\n",
    "df['amount/volume100'] = df['amount']/(df['volume']*100)\n",
    "price_and_amount_volume_real_err = (df[['open','high','low','close']]/df[['amount/volume100']].values-1).abs()\n",
    "volume100_df = df[(price_and_amount_volume_real_err <= 0.1).all(axis=1)]\n",
    "err_df = price_and_amount_volume_real_err[(price_and_amount_volume_real_err<=0.1).all(axis=1)]"
   ]
  }
 ],
 "metadata": {
  "kernelspec": {
   "display_name": "base",
   "language": "python",
   "name": "python3"
  },
  "language_info": {
   "codemirror_mode": {
    "name": "ipython",
    "version": 3
   },
   "file_extension": ".py",
   "mimetype": "text/x-python",
   "name": "python",
   "nbconvert_exporter": "python",
   "pygments_lexer": "ipython3",
   "version": "3.11.3"
  },
  "orig_nbformat": 4
 },
 "nbformat": 4,
 "nbformat_minor": 2
}

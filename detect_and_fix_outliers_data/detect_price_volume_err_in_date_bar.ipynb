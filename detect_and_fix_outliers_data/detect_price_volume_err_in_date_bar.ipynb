{
 "cells": [
  {
   "cell_type": "markdown",
   "metadata": {},
   "source": [
    "导入包和库"
   ]
  },
  {
   "cell_type": "code",
   "execution_count": 16,
   "metadata": {},
   "outputs": [],
   "source": [
    "import os\n",
    "import sys\n",
    "from typing import List\n",
    "\n",
    "import numpy as np\n",
    "import pandas as pd\n",
    "\n",
    "sys.path.append(r\"D:\\\\QUANT_GAME\\\\python_game\\\\pythonProject\")\n",
    "from my_tools_packages import MyDecorator as MD\n",
    "\n",
    "running_time = MD.running_time\n",
    "\n",
    "sys.path.append(r\"D:\\\\QUANT_GAME\\\\python_game\\\\pythonProject\\\\hk_stk_data_processing_codes_by_jsy\\\\common\")\n",
    "import config\n",
    "import utilities as utl\n",
    "from EvaluateDateBar import EvaluateDateBar as EvalDateBar\n",
    "\n"
   ]
  },
  {
   "cell_type": "markdown",
   "metadata": {},
   "source": [
    "配置文件"
   ]
  },
  {
   "cell_type": "code",
   "execution_count": 17,
   "metadata": {},
   "outputs": [
    {
     "name": "stdout",
     "output_type": "stream",
     "text": [
      "总的有4889273根日线数据\n"
     ]
    }
   ],
   "source": [
    "hk_date_bar_version = 'v11'\n",
    "hk_date_bar_file_path = config.get_config('date_bar_develop_hist_file_path')[hk_date_bar_version]\n",
    "hk_date_bar = pd.read_pickle(hk_date_bar_file_path)\n",
    "df = hk_date_bar.copy()\n",
    "print('总的有4889273根日线数据')"
   ]
  },
  {
   "cell_type": "markdown",
   "metadata": {},
   "source": [
    "在日线上计算amount/volume,和其余价格的相对误差比对"
   ]
  },
  {
   "cell_type": "code",
   "execution_count": 18,
   "metadata": {},
   "outputs": [],
   "source": [
    "df['amount/volume'] = df['amount']/df['volume']\n"
   ]
  },
  {
   "cell_type": "markdown",
   "metadata": {},
   "source": [
    "amount/volume为nan、inf、0，有以下数据"
   ]
  },
  {
   "cell_type": "code",
   "execution_count": 19,
   "metadata": {},
   "outputs": [
    {
     "name": "stdout",
     "output_type": "stream",
     "text": [
      "有367根日线数据，但不一定为异常\n",
      "amount==volume==0\n"
     ]
    }
   ],
   "source": [
    "# amount/volume为nan\n",
    "amount_volume_is_na = df[df['amount/volume'].isna()]\n",
    "print('有367根日线数据，但不一定为异常')\n",
    "print('amount==volume==0')"
   ]
  },
  {
   "cell_type": "code",
   "execution_count": 20,
   "metadata": {},
   "outputs": [
    {
     "name": "stdout",
     "output_type": "stream",
     "text": [
      "有339根日线数据，且为异常\n",
      "amount!=0,volume==0\n"
     ]
    }
   ],
   "source": [
    "# amount/volume为inf\n",
    "amount_volume_is_inf = df[df['amount/volume']>999999999]\n",
    "print('有339根日线数据，且为异常')\n",
    "print('amount!=0,volume==0')"
   ]
  },
  {
   "cell_type": "code",
   "execution_count": 21,
   "metadata": {},
   "outputs": [
    {
     "name": "stdout",
     "output_type": "stream",
     "text": [
      "有103根日线数据，且为异常\n",
      "amount==0,volume!=0\n"
     ]
    }
   ],
   "source": [
    "# amount/volume为0\n",
    "amount_volume_is_0 = df[df['amount/volume']==0]\n",
    "print('有103根日线数据，且为异常')\n",
    "print('amount==0,volume!=0')"
   ]
  },
  {
   "cell_type": "markdown",
   "metadata": {},
   "source": [
    "由于以上错误只是在量上，无法判断量价关系，而现在要通过分析量价关系的相对误差来找出错误的原因，以上这几类可以暂时忽略，共剔除80"
   ]
  },
  {
   "cell_type": "code",
   "execution_count": 22,
   "metadata": {},
   "outputs": [
    {
     "name": "stderr",
     "output_type": "stream",
     "text": [
      "C:\\Users\\win\\AppData\\Local\\Temp\\ipykernel_13796\\251065794.py:1: FutureWarning: Index.__or__ operating as a set operation is deprecated, in the future this will be a logical operation matching Series.__or__.  Use index.union(other) instead.\n",
      "  df_t = df[~df.index.isin((amount_volume_is_na.index)|(amount_volume_is_0.index)|(amount_volume_is_inf.index))]\n",
      "C:\\Users\\win\\AppData\\Local\\Temp\\ipykernel_13796\\251065794.py:1: FutureWarning: Index.__or__ operating as a set operation is deprecated, in the future this will be a logical operation matching Series.__or__.  Use index.union(other) instead.\n",
      "  df_t = df[~df.index.isin((amount_volume_is_na.index)|(amount_volume_is_0.index)|(amount_volume_is_inf.index))]\n"
     ]
    },
    {
     "name": "stdout",
     "output_type": "stream",
     "text": [
      "剔除暂时不考虑的错误，剔除后有4888464\n"
     ]
    }
   ],
   "source": [
    "df_t = df[~df.index.isin((amount_volume_is_na.index)|(amount_volume_is_0.index)|(amount_volume_is_inf.index))]\n",
    "price_and_amount_volume_real_err = (df_t[['open','high','low','close']]/df_t[['amount/volume']].values-1).abs()\n",
    "df_t_num = len(df_t)\n",
    "print(f'剔除暂时不考虑的错误，剔除后有{df_t_num}')\n"
   ]
  },
  {
   "cell_type": "code",
   "execution_count": 23,
   "metadata": {},
   "outputs": [
    {
     "name": "stdout",
     "output_type": "stream",
     "text": [
      "准确无误的数据,有195872根日线数据\n",
      "都在20150610之前\n"
     ]
    }
   ],
   "source": [
    "# 相对差为0\n",
    "real_err_is_0 = price_and_amount_volume_real_err[(price_and_amount_volume_real_err==0).all(axis=1)]\n",
    "real_err_df_is_0 = df_t[(price_and_amount_volume_real_err==0).all(axis=1)]\n",
    "real_err_is_0_num = len(real_err_is_0)\n",
    "print(f'准确无误的数据,有{real_err_is_0_num}根日线数据')\n",
    "print('都在20150610之前')"
   ]
  },
  {
   "cell_type": "code",
   "execution_count": 28,
   "metadata": {},
   "outputs": [
    {
     "name": "stdout",
     "output_type": "stream",
     "text": [
      "剔除相对误差后，准确无误的数据有4692592\n"
     ]
    }
   ],
   "source": [
    "check_df = df_t[~df_t.index.isin(real_err_df_is_0.index)]\n",
    "check_df_real_err = price_and_amount_volume_real_err.loc[check_df.index,:]\n",
    "# 剔除相对误差为0的准确无误的数据后有\n",
    "check_df_num = len(check_df)\n",
    "print(f'剔除准确的数据后，剩下的数据有{check_df_num}')"
   ]
  },
  {
   "cell_type": "code",
   "execution_count": 33,
   "metadata": {},
   "outputs": [
    {
     "name": "stdout",
     "output_type": "stream",
     "text": [
      "非常精准<0.01,的数据有591217\n"
     ]
    }
   ],
   "source": [
    "# 非常准确的数据，相对误差0.01以内的有\n",
    "real_err_is_01 = price_and_amount_volume_real_err[(price_and_amount_volume_real_err<0.01).all(axis=1)]\n",
    "real_err_df_is_01 = df_t[(price_and_amount_volume_real_err<0.01).all(axis=1)]\n",
    "real_err_is_01_num = len(real_err_is_01)\n",
    "print(f'非常精准<0.01,的数据有{real_err_is_01_num}')\n"
   ]
  },
  {
   "cell_type": "code",
   "execution_count": 41,
   "metadata": {},
   "outputs": [
    {
     "name": "stdout",
     "output_type": "stream",
     "text": [
      "较精确的数据<0.05的数据有2080050\n"
     ]
    }
   ],
   "source": [
    "# 较准确的数据，相对误差0.05以内的有\n",
    "real_err_is_05 = price_and_amount_volume_real_err[(price_and_amount_volume_real_err<=0.05).all(axis=1)]\n",
    "real_err_df_is_05 = df_t[(price_and_amount_volume_real_err<=0.05).all(axis=1)]\n",
    "real_err_is_05_num = len(real_err_is_05)\n",
    "print(f'较精确的数据<=0.05的数据有{real_err_is_05_num}')"
   ]
  },
  {
   "cell_type": "code",
   "execution_count": 42,
   "metadata": {},
   "outputs": [
    {
     "name": "stdout",
     "output_type": "stream",
     "text": [
      "不考虑较准确的数据，剩下需要处理的数据有2808414\n"
     ]
    }
   ],
   "source": [
    "# 不考虑较准确的数据，剩下需要处理的数据有\n",
    "check_df_1 = check_df[~check_df.index.isin(real_err_df_is_05.index)]\n",
    "check_df_1_real_err = price_and_amount_volume_real_err.loc[check_df_1.index,:]\n",
    "\n",
    "check_df_1_num = len(check_df_1)\n",
    "print(f'不考虑较准确的数据，剩下需要处理的数据有{check_df_1_num}')"
   ]
  },
  {
   "cell_type": "markdown",
   "metadata": {},
   "source": [
    "再剔除volume100处理后小于0.05的有"
   ]
  },
  {
   "cell_type": "code",
   "execution_count": 43,
   "metadata": {},
   "outputs": [],
   "source": [
    "real_err_is_95_105 = price_and_amount_volume_real_err[(price_and_amount_volume_real_err>=0.95).all(axis=1)\n",
    "                                                  &(price_and_amount_volume_real_err<=1.05).all(axis=1)]\n",
    "real_err_df_is_95_105 = df_t[(price_and_amount_volume_real_err>=0.95).all(axis=1)\n",
    "                                                  &(price_and_amount_volume_real_err<=1.05).all(axis=1)]\n",
    "real_err_is_95_105_num = len(real_err_is_95_105)\n",
    "print(f'可通过volume10处理的数据有{real_err_is_95_105_num}')\n"
   ]
  },
  {
   "cell_type": "code",
   "execution_count": 45,
   "metadata": {},
   "outputs": [
    {
     "name": "stdout",
     "output_type": "stream",
     "text": [
      "不考虑可以通过volume100处理的数据有378748\n"
     ]
    }
   ],
   "source": [
    "check_df_2 = check_df_1[~check_df_1.index.isin(real_err_df_is_95_105.index)]\n",
    "check_df2_real_err = price_and_amount_volume_real_err.loc[check_df_2.index,:]\n",
    "\n",
    "check_df_2_num = len(check_df_2)\n",
    "print(f'不考虑可以通过volume100处理的数据有{check_df_2_num}')"
   ]
  },
  {
   "cell_type": "markdown",
   "metadata": {},
   "source": [
    "把阈值提升到0.1"
   ]
  },
  {
   "cell_type": "code",
   "execution_count": 47,
   "metadata": {},
   "outputs": [],
   "source": [
    "real_err_is_1 = price_and_amount_volume_real_err[(price_and_amount_volume_real_err<=0.1).all(axis=1)]\n",
    "real_err_df_is_1 = df_t[(price_and_amount_volume_real_err<=0.1).all(axis=1)]\n",
    "\n",
    "real_err_is_1_num = len(real_err_is_1)\n"
   ]
  },
  {
   "cell_type": "code",
   "execution_count": 48,
   "metadata": {},
   "outputs": [],
   "source": [
    "real_err_is_90_110 = price_and_amount_volume_real_err[(price_and_amount_volume_real_err>=0.9).all(axis=1)\n",
    "                                                  &(price_and_amount_volume_real_err<=1.1).all(axis=1)]\n",
    "real_err_df_is_90_110 = df_t[(price_and_amount_volume_real_err>=0.9).all(axis=1)\n",
    "                                                  &(price_and_amount_volume_real_err<=1.1).all(axis=1)]\n",
    "real_err_is_90_110_num = len(real_err_is_95_105)"
   ]
  },
  {
   "cell_type": "code",
   "execution_count": 50,
   "metadata": {},
   "outputs": [],
   "source": [
    "check_df_3 = check_df[(~check_df.index.isin(real_err_df_is_1.index))&(~check_df.index.isin(real_err_df_is_90_110.index))]\n",
    "check_df3_real_err = price_and_amount_volume_real_err.loc[check_df_3.index,:]"
   ]
  }
 ],
 "metadata": {
  "kernelspec": {
   "display_name": "base",
   "language": "python",
   "name": "python3"
  },
  "language_info": {
   "codemirror_mode": {
    "name": "ipython",
    "version": 3
   },
   "file_extension": ".py",
   "mimetype": "text/x-python",
   "name": "python",
   "nbconvert_exporter": "python",
   "pygments_lexer": "ipython3",
   "version": "3.11.3"
  }
 },
 "nbformat": 4,
 "nbformat_minor": 2
}
